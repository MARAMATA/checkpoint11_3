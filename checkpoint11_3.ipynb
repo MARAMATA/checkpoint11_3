{
 "cells": [
  {
   "cell_type": "code",
   "execution_count": 1,
   "id": "b84fd1c5",
   "metadata": {},
   "outputs": [
    {
     "name": "stdout",
     "output_type": "stream",
     "text": [
      "Entrez la durée du compte à rebours en secondes : 55\n",
      "Feu dans le trou !\n"
     ]
    }
   ],
   "source": [
    "import time\n",
    "\n",
    "def decompte(t):\n",
    "    while t:\n",
    "        minutes, secondes = divmod(t, 60)\n",
    "        format_temps = '{:02d}:{:02d}'.format(minutes, secondes)\n",
    "        print(format_temps, end='\\r')\n",
    "        time.sleep(1)\n",
    "        t -= 1\n",
    "    \n",
    "    print(\"Feu dans le trou !\")\n",
    "\n",
    "# Demander à l'utilisateur la durée du compte à rebours en secondes\n",
    "duree = input(\"Entrez la durée du compte à rebours en secondes : \")\n",
    "duree = int(duree)\n",
    "\n",
    "# Lancer le compte à rebours\n",
    "decompte(duree)\n"
   ]
  },
  {
   "cell_type": "code",
   "execution_count": null,
   "id": "b4e00f86",
   "metadata": {},
   "outputs": [],
   "source": []
  }
 ],
 "metadata": {
  "kernelspec": {
   "display_name": "Python 3 (ipykernel)",
   "language": "python",
   "name": "python3"
  },
  "language_info": {
   "codemirror_mode": {
    "name": "ipython",
    "version": 3
   },
   "file_extension": ".py",
   "mimetype": "text/x-python",
   "name": "python",
   "nbconvert_exporter": "python",
   "pygments_lexer": "ipython3",
   "version": "3.9.13"
  }
 },
 "nbformat": 4,
 "nbformat_minor": 5
}
